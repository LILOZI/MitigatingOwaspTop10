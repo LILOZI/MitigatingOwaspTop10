{
 "cells": [
  {
   "cell_type": "code",
   "execution_count": null,
   "id": "7d00a483",
   "metadata": {},
   "outputs": [],
   "source": [
    "from my_swarm.swarm import swarm\n",
    "from IPython.display import Image, display\n",
    "\n",
    "display(Image(swarm.get_graph().draw_mermaid_png()))"
   ]
  },
  {
   "cell_type": "code",
   "execution_count": null,
   "id": "04c4f891",
   "metadata": {},
   "outputs": [],
   "source": [
    "%%capture\n",
    "%pip install PyJWT\n",
    "%pip install bcrypt"
   ]
  },
  {
   "cell_type": "code",
   "execution_count": null,
   "id": "b1d437c2",
   "metadata": {},
   "outputs": [],
   "source": []
  }
 ],
 "metadata": {
  "kernelspec": {
   "display_name": ".venv",
   "language": "python",
   "name": "python3"
  },
  "language_info": {
   "codemirror_mode": {
    "name": "ipython",
    "version": 3
   },
   "file_extension": ".py",
   "mimetype": "text/x-python",
   "name": "python",
   "nbconvert_exporter": "python",
   "pygments_lexer": "ipython3",
   "version": "3.12.7"
  }
 },
 "nbformat": 4,
 "nbformat_minor": 5
}
