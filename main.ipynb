{
 "cells": [
  {
   "cell_type": "code",
   "execution_count": null,
   "id": "7d00a483",
   "metadata": {},
   "outputs": [],
   "source": [
    "from my_swarm.swarm import swarm"
   ]
  },
  {
   "cell_type": "code",
   "execution_count": 1,
   "id": "5f2e1210",
   "metadata": {},
   "outputs": [
    {
     "ename": "ModuleNotFoundError",
     "evalue": "No module named 'langgraph'",
     "output_type": "error",
     "traceback": [
      "\u001b[31m---------------------------------------------------------------------------\u001b[39m",
      "\u001b[31mModuleNotFoundError\u001b[39m                       Traceback (most recent call last)",
      "\u001b[36mCell\u001b[39m\u001b[36m \u001b[39m\u001b[32mIn[1]\u001b[39m\u001b[32m, line 1\u001b[39m\n\u001b[32m----> \u001b[39m\u001b[32m1\u001b[39m \u001b[38;5;28;01mfrom\u001b[39;00m\u001b[38;5;250m \u001b[39m\u001b[34;01mmy_swarm\u001b[39;00m\u001b[34;01m.\u001b[39;00m\u001b[34;01mswarm\u001b[39;00m\u001b[38;5;250m \u001b[39m\u001b[38;5;28;01mimport\u001b[39;00m swarm\n\u001b[32m      3\u001b[39m \u001b[38;5;28mprint\u001b[39m(\u001b[33m'\u001b[39m\u001b[33mEnter username:\u001b[39m\u001b[33m'\u001b[39m)\n\u001b[32m      4\u001b[39m username = \u001b[38;5;28minput\u001b[39m()\n",
      "\u001b[36mFile \u001b[39m\u001b[32mc:\\Users\\ozata\\PycharmProjects\\MitigatingOwaspTop10\\my_swarm\\swarm.py:1\u001b[39m\n\u001b[32m----> \u001b[39m\u001b[32m1\u001b[39m \u001b[38;5;28;01mfrom\u001b[39;00m\u001b[38;5;250m \u001b[39m\u001b[34;01mmy_swarm\u001b[39;00m\u001b[34;01m.\u001b[39;00m\u001b[34;01mcommander_agent\u001b[39;00m\u001b[34;01m.\u001b[39;00m\u001b[34;01mcommander_graph\u001b[39;00m\u001b[38;5;250m \u001b[39m\u001b[38;5;28;01mimport\u001b[39;00m commander_graph, comader_memory\n\u001b[32m      2\u001b[39m \u001b[38;5;28;01mfrom\u001b[39;00m\u001b[38;5;250m \u001b[39m\u001b[34;01mmy_swarm\u001b[39;00m\u001b[34;01m.\u001b[39;00m\u001b[34;01mbusiness_agent\u001b[39;00m\u001b[34;01m.\u001b[39;00m\u001b[34;01mbussiness_graph\u001b[39;00m\u001b[38;5;250m \u001b[39m\u001b[38;5;28;01mimport\u001b[39;00m business_graph\n\u001b[32m      3\u001b[39m \u001b[38;5;28;01mfrom\u001b[39;00m\u001b[38;5;250m \u001b[39m\u001b[34;01mmy_swarm\u001b[39;00m\u001b[34;01m.\u001b[39;00m\u001b[34;01msecurity_agent\u001b[39;00m\u001b[34;01m.\u001b[39;00m\u001b[34;01msecurity_graph\u001b[39;00m\u001b[38;5;250m \u001b[39m\u001b[38;5;28;01mimport\u001b[39;00m security_graph\n",
      "\u001b[36mFile \u001b[39m\u001b[32mc:\\Users\\ozata\\PycharmProjects\\MitigatingOwaspTop10\\my_swarm\\commander_agent\\commander_graph.py:1\u001b[39m\n\u001b[32m----> \u001b[39m\u001b[32m1\u001b[39m \u001b[38;5;28;01mfrom\u001b[39;00m\u001b[38;5;250m \u001b[39m\u001b[34;01mlanggraph\u001b[39;00m\u001b[34;01m.\u001b[39;00m\u001b[34;01mgraph\u001b[39;00m\u001b[38;5;250m \u001b[39m\u001b[38;5;28;01mimport\u001b[39;00m StateGraph, START\n\u001b[32m      3\u001b[39m \u001b[38;5;28;01mfrom\u001b[39;00m\u001b[38;5;250m \u001b[39m\u001b[34;01mmy_swarm\u001b[39;00m\u001b[34;01m.\u001b[39;00m\u001b[34;01mcommander_agent\u001b[39;00m\u001b[34;01m.\u001b[39;00m\u001b[34;01mcommander_state\u001b[39;00m\u001b[38;5;250m \u001b[39m\u001b[38;5;28;01mimport\u001b[39;00m CommanderState\n\u001b[32m      5\u001b[39m \u001b[38;5;28;01mfrom\u001b[39;00m\u001b[38;5;250m \u001b[39m\u001b[34;01mmy_swarm\u001b[39;00m\u001b[34;01m.\u001b[39;00m\u001b[34;01mcommander_agent\u001b[39;00m\u001b[34;01m.\u001b[39;00m\u001b[34;01mcommander_nodes\u001b[39;00m\u001b[38;5;250m \u001b[39m\u001b[38;5;28;01mimport\u001b[39;00m (\n\u001b[32m      6\u001b[39m     commander_node,\n\u001b[32m      7\u001b[39m )\n",
      "\u001b[31mModuleNotFoundError\u001b[39m: No module named 'langgraph'"
     ]
    }
   ],
   "source": [
    "from my_swarm.swarm import swarm\n",
    "\n",
    "print('Enter username:')\n",
    "username = input()\n",
    "print('Enter password:')\n",
    "password = input()\n",
    "\n",
    "swarm.inboke({\"messages\": [{\"role\": \"System\", \"content\": f\"login {username} {password}\"}]})\n"
   ]
  },
  {
   "cell_type": "code",
   "execution_count": null,
   "id": "b1d437c2",
   "metadata": {},
   "outputs": [],
   "source": []
  }
 ],
 "metadata": {
  "kernelspec": {
   "display_name": ".venv",
   "language": "python",
   "name": "python3"
  },
  "language_info": {
   "codemirror_mode": {
    "name": "ipython",
    "version": 3
   },
   "file_extension": ".py",
   "mimetype": "text/x-python",
   "name": "python",
   "nbconvert_exporter": "python",
   "pygments_lexer": "ipython3",
   "version": "3.12.8"
  }
 },
 "nbformat": 4,
 "nbformat_minor": 5
}
